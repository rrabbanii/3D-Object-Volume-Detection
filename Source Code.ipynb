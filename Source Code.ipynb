{
  "cells": [
    {
      "cell_type": "markdown",
      "metadata": {
        "id": "qskGBDm7c77_"
      },
      "source": [
        "# 1. Import Libraries"
      ]
    },
    {
      "cell_type": "code",
      "execution_count": null,
      "metadata": {
        "id": "DR4AhK0Pc78B"
      },
      "outputs": [],
      "source": [
        "import math # Used for algebraic calculation only (tan angle on edges)\n",
        "import matplotlib.pyplot as plt # Used to display the image as plot of points only\n",
        "from PIL import Image # Used to obtain the image only"
      ]
    },
    {
      "cell_type": "markdown",
      "metadata": {
        "id": "28WG3NoIZz2m"
      },
      "source": [
        "# 2. Edge Detection"
      ]
    },
    {
      "cell_type": "markdown",
      "metadata": {
        "id": "rJeLR7ncc78F"
      },
      "source": [
        "## 2.1 Dimensions of the Object"
      ]
    },
    {
      "cell_type": "code",
      "execution_count": null,
      "metadata": {
        "id": "UU2duFklc78G"
      },
      "outputs": [],
      "source": [
        "def getDimensions(image):\n",
        "    width, height = image.size\n",
        "    return width, height"
      ]
    },
    {
      "cell_type": "markdown",
      "metadata": {
        "id": "PW5k_64Xc78G"
      },
      "source": [
        "## 2.2 Convert RGB Color to Grayscale Color"
      ]
    },
    {
      "cell_type": "code",
      "execution_count": null,
      "metadata": {
        "id": "aT0J39zWc78I"
      },
      "outputs": [],
      "source": [
        "def rgbToGreyscale(image):\n",
        "    width, height = getDimensions(image)\n",
        "    grey_img = Image.new(\"L\", (width, height))\n",
        "    pixels = image.load()\n",
        "    for x in range(width):\n",
        "        for y in range(height):\n",
        "            r, g, b = pixels[x, y]\n",
        "            grey = int(0.2989 * r + 0.5870 * g + 0.1140 * b)\n",
        "            grey_img.putpixel((x, y), grey)\n",
        "    return grey_img"
      ]
    },
    {
      "cell_type": "markdown",
      "metadata": {
        "id": "-0xHlxQGc78J"
      },
      "source": [
        "## 2.3 Compute the First Derivative"
      ]
    },
    {
      "cell_type": "code",
      "execution_count": null,
      "metadata": {
        "id": "1p3h0Egyc78K"
      },
      "outputs": [],
      "source": [
        "def firstDerivative(img):\n",
        "    width, height = getDimensions(img)\n",
        "    fx = Image.new(\"L\", (width, height))\n",
        "    fy = Image.new(\"L\", (width, height))\n",
        "\n",
        "    img_pixels = img.load()\n",
        "    fx_pixels = fx.load()\n",
        "    fy_pixels = fy.load()\n",
        "\n",
        "    for x in range(1, width - 1):\n",
        "        for y in range(1, height - 1):\n",
        "            hx = 0.1  # Adjust hx to a smaller value\n",
        "            hy = 0.1 # Adjust hy to a smaller value\n",
        "            fx_val = int((img_pixels[x + 1, y] - img_pixels[x - 1, y]) / (2 * hx))  # Use central differences in x direction\n",
        "            fy_val = int((img_pixels[x, y + 1] - img_pixels[x, y - 1]) / (2 * hy))  # Use central differences in y direction\n",
        "            fx_pixels[x, y] = fx_val\n",
        "            fy_pixels[x, y] = fy_val\n",
        "    return fx, fy"
      ]
    },
    {
      "cell_type": "markdown",
      "metadata": {
        "id": "EhoZ1Eh-c78M"
      },
      "source": [
        "## 2.4 Compute the Second Derivative"
      ]
    },
    {
      "cell_type": "code",
      "execution_count": null,
      "metadata": {
        "id": "tSVV_yKkc78N"
      },
      "outputs": [],
      "source": [
        "#Note that, we did not use second derivative since it is too sensitive to the noise in our case\n",
        "def secondDerivatives(img):\n",
        "    width, height = getDimensions(img)\n",
        "    fxx = Image.new(\"L\", (width, height))\n",
        "    fyy = Image.new(\"L\", (width, height))\n",
        "\n",
        "    img_pixels = img.load()\n",
        "    fxx_pixels = fxx.load()\n",
        "    fyy_pixels = fyy.load()\n",
        "\n",
        "    for x in range(1, width - 1):\n",
        "        for y in range(1, height - 1):\n",
        "            hx = 0.8  # Adjust hx to a smaller value\n",
        "            hy = 0.8  # Adjust hy to a smaller value\n",
        "            fxx_val = int(\n",
        "                (img_pixels[x + 1, y] - 2 * img_pixels[x, y] + img_pixels[x - 1, y]) / (hx ** 2)\n",
        "            )  # Use central differences in x direction\n",
        "            fyy_val = int(\n",
        "                (img_pixels[x, y + 1] - 2 * img_pixels[x, y] + img_pixels[x, y - 1]) / (hy ** 2)\n",
        "            )  # Use central differences in y direction\n",
        "            fxx_pixels[x, y] = fxx_val\n",
        "            fyy_pixels[x, y] = fyy_val\n",
        "    return fxx, fyy"
      ]
    },
    {
      "cell_type": "markdown",
      "metadata": {
        "id": "AIPb9cdHc78N"
      },
      "source": [
        "## 2.5 Compute the Combine Edges"
      ]
    },
    {
      "cell_type": "code",
      "execution_count": null,
      "metadata": {
        "id": "FhoXDr8cc78O"
      },
      "outputs": [],
      "source": [
        "# We combine the edge data of X axis and Y axis\n",
        "def combineEdges(fx, fy):\n",
        "    width, height = getDimensions(fx)\n",
        "    combined_img = Image.new(\"L\", (width, height))\n",
        "\n",
        "    fx_pixels = fx.load()\n",
        "    fy_pixels = fy.load()\n",
        "    combined_pixels = combined_img.load()\n",
        "\n",
        "    for x in range(width):\n",
        "        for y in range(height):\n",
        "            edge_x = fx_pixels[x, y]\n",
        "            edge_y = fy_pixels[x, y]\n",
        "            combined_edge = int((edge_x**2 + edge_y**2)**0.5)  # Combine edges using Euclidean distance\n",
        "            combined_pixels[x, y] = combined_edge\n",
        "    return combined_img"
      ]
    },
    {
      "cell_type": "markdown",
      "metadata": {
        "id": "wJpPmRSVc78O"
      },
      "source": [
        "## 2.6 Convert Grayscale Edge Data to Array"
      ]
    },
    {
      "cell_type": "code",
      "execution_count": null,
      "metadata": {
        "id": "ZaCPebcHc78P"
      },
      "outputs": [],
      "source": [
        "def grayscale_to_array(image_path):\n",
        "    width, height = image_path.size\n",
        "    pixel_data = list(image_path.getdata())  # Get pixel values as a flat list\n",
        "\n",
        "    # Reshape the flat list into a 2D array\n",
        "    array = [pixel_data[i:i+width] for i in range(0, len(pixel_data), width)]\n",
        "    return array"
      ]
    },
    {
      "cell_type": "markdown",
      "metadata": {
        "id": "RtH92wxlc78P"
      },
      "source": [
        "## 2.7 Thresholding & Denoising Edge"
      ]
    },
    {
      "cell_type": "code",
      "execution_count": null,
      "metadata": {
        "id": "htt4tYOzc78Q"
      },
      "outputs": [],
      "source": [
        "def thresholding(array, threshold):\n",
        "    for i in range (len(array)):\n",
        "        for j in range (len(array[0])):\n",
        "            if array[i][j]>threshold:\n",
        "                array[i][j]=255\n",
        "    return array\n",
        "\n",
        "def reduceNoise(array):\n",
        "    for i in range(1, len(array)):\n",
        "        for j in range(1, len(array[0])):\n",
        "            if array[i][j]==255 and ((array[i-1][j]==255 and array[i][j-1]==255 and array[i+1][j]==255)\n",
        "                                     or (array[i-1][j]==255 and array[i][j-1]==255 and array[i][j+1]==255)\n",
        "                                     or (array[i-1][j]==255 and array[i+1][j]==255 and array[i][j+1]==255)\n",
        "                                     or (array[i+1][j]==255 and array[i][j+1]==255 and array[i][j-1]==255)):\n",
        "                                     array[i][j] = 0\n",
        "    return array"
      ]
    },
    {
      "cell_type": "markdown",
      "metadata": {
        "id": "cEOH1LZic78Q"
      },
      "source": [
        "## 2.8 Get the array point into List\n"
      ]
    },
    {
      "cell_type": "code",
      "execution_count": null,
      "metadata": {
        "id": "0Bua2MDNc78Q"
      },
      "outputs": [],
      "source": [
        "def getPoints(array):\n",
        "    lis = []\n",
        "    for j in range (len(array[0])):\n",
        "        for i in range (len(array)):\n",
        "            if array[i][j]==255:\n",
        "                lis.append((i, j))\n",
        "    return lis\n",
        "\n",
        "\n",
        "def sortPoints(points):\n",
        "    centroid_x = sum(point[0] for point in points) / len(points)\n",
        "    centroid_y = sum(point[1] for point in points) / len(points)\n",
        "    centroid = (centroid_x, centroid_y)\n",
        "\n",
        "    for i, point in enumerate(points):\n",
        "        delta_x = point[0] - centroid_x\n",
        "        delta_y = point[1] - centroid_y\n",
        "        if delta_x == 0:\n",
        "            angle = 0 if delta_y >= 0 else math.pi\n",
        "        else:\n",
        "            angle = math.atan(delta_y / delta_x)\n",
        "            if delta_x < 0:\n",
        "                angle += math.pi\n",
        "                points[i] = (point[0], point[1], angle)\n",
        "                points.sort(key=lambda p: p[2])\n",
        "\n",
        "                corners = []\n",
        "                threshold = 0 # Adjust the threshold\n",
        "                for i in range(len(points)):\n",
        "                    prev_angle = points[i-1][2] if i > 0 else points[-1][2]\n",
        "                    curr_angle = points[i][2]\n",
        "                    next_angle = points[(i+1) % len(points)][2]\n",
        "                    angle_diff = abs(curr_angle - prev_angle) + abs(curr_angle - next_angle)\n",
        "                    if angle_diff > threshold:\n",
        "                        corners.append((points[i][0], points[i][1]))\n",
        "                return corners"
      ]
    },
    {
      "cell_type": "markdown",
      "metadata": {
        "id": "bZfYvlK0ahbs"
      },
      "source": [
        "# 3. Interpolation Steps"
      ]
    },
    {
      "cell_type": "markdown",
      "metadata": {
        "id": "UiZrJo_mc78S"
      },
      "source": [
        "## 3.1 Lagrange Method"
      ]
    },
    {
      "cell_type": "code",
      "execution_count": null,
      "metadata": {
        "id": "Fav84eeWc78S"
      },
      "outputs": [],
      "source": [
        "def lagrange_interpolation(x, y, x_interpolated):\n",
        "    n = len(x)\n",
        "    y_interpolated = []\n",
        "    for xi in x_interpolated:\n",
        "        interpolated_value = 0\n",
        "        for j in range(n):\n",
        "            basis = 1\n",
        "            for k in range(n):\n",
        "                if k != j and x[j] != x[k]:\n",
        "                    basis *= (xi - x[k]) / (x[j] - x[k])\n",
        "            interpolated_value += y[j] * basis\n",
        "        y_interpolated.append(interpolated_value)\n",
        "    return y_interpolated"
      ]
    },
    {
      "cell_type": "markdown",
      "metadata": {
        "id": "F09xALxPc78T"
      },
      "source": [
        "## 3.2 Barycentric Method"
      ]
    },
    {
      "cell_type": "code",
      "execution_count": null,
      "metadata": {
        "id": "UVW8Fnarc78T"
      },
      "outputs": [],
      "source": [
        "def barycentric_interpolation(x, y, x_interpolated):\n",
        "    n = len(x)\n",
        "    weights = []\n",
        "\n",
        "    for i in range(n):\n",
        "        weight = 1\n",
        "        for j in range(n):\n",
        "            if i != j and x[i]!=x[j]:\n",
        "                weight /= (x[i] - x[j])\n",
        "        weights.append(weight)\n",
        "    y_interpolated = []\n",
        "    for xi in x_interpolated:\n",
        "        numerator_sum = 0\n",
        "        denominator_sum = 0\n",
        "        for i in range(n):\n",
        "            if xi == x[i]:\n",
        "                interpolated_value = y[i]\n",
        "                break\n",
        "            weight = weights[i] / (xi - x[i])\n",
        "            numerator_sum += weight * y[i]\n",
        "            denominator_sum += weight\n",
        "        else:\n",
        "            interpolated_value = numerator_sum / denominator_sum\n",
        "        y_interpolated.append(interpolated_value)\n",
        "    return y_interpolated"
      ]
    },
    {
      "cell_type": "markdown",
      "metadata": {
        "id": "ECZwbOoTc78T"
      },
      "source": [
        "## 3.3 Standard Method"
      ]
    },
    {
      "cell_type": "code",
      "execution_count": null,
      "metadata": {
        "id": "GtWbpoaac78T"
      },
      "outputs": [],
      "source": [
        "def interpolate_points(edges, num_points):\n",
        "    interpolated_points = []\n",
        "    for i in range (1, len(edges)-1):\n",
        "        start_point = edges[i]\n",
        "        end_point = edges[i+1]\n",
        "\n",
        "        # Interpolate the points along the edge\n",
        "        step_x = (end_point[0] - start_point[0]) / (num_points + 1)\n",
        "        step_y = (end_point[1] - start_point[1]) / (num_points + 1)\n",
        "\n",
        "        for i in range(num_points):\n",
        "            x = start_point[0] + (step_x * (i + 1))\n",
        "            y = start_point[1] + (step_y * (i + 1))\n",
        "            interpolated_points.append([x, y])\n",
        "\n",
        "    return interpolated_points"
      ]
    },
    {
      "cell_type": "markdown",
      "metadata": {
        "id": "m6a1PWKDc78U"
      },
      "source": [
        "## 3.4 Applying the Interpolation Methods to the Edges"
      ]
    },
    {
      "cell_type": "code",
      "execution_count": null,
      "metadata": {
        "id": "YxcNTnSfWdRk"
      },
      "outputs": [],
      "source": [
        "def apply_interpolation(edges, method):\n",
        "    x_coords, y_coords = zip(*edges)\n",
        "    x_interpolated = [xi for xi in range(int(min(x_coords)), int(max(x_coords))+1)]\n",
        "\n",
        "    if method == 'Lagrange':\n",
        "        y_interpolated = lagrange_interpolation(x_coords, y_coords, x_interpolated)\n",
        "    elif method == 'Barycentric':\n",
        "        y_interpolated = barycentric_interpolation(x_coords, y_coords, x_interpolated)\n",
        "    elif method == 'Standard':\n",
        "        interpolated_points = interpolate_points(edges, 15)\n",
        "        return interpolated_points"
      ]
    },
    {
      "cell_type": "markdown",
      "metadata": {
        "id": "tlnm8Zb-Z4wX"
      },
      "source": [
        "\n",
        "# 4. Volume Estimation"
      ]
    },
    {
      "cell_type": "markdown",
      "metadata": {
        "id": "O4Ha9Q3Kc78V"
      },
      "source": [
        "## 4.1 Simpson Method"
      ]
    },
    {
      "cell_type": "code",
      "execution_count": null,
      "metadata": {
        "id": "Kmsg6We7U5fV"
      },
      "outputs": [],
      "source": [
        "def f(x):\n",
        "    return 1\n",
        "\n",
        "def simpson_integration(a, b, n):\n",
        "    h = (b - a) / n\n",
        "    x = a\n",
        "    sum1 = 0\n",
        "    sum2 = 0\n",
        "\n",
        "    for i in range(1, n, 2):\n",
        "        x += h\n",
        "        sum1 += f(x)\n",
        "        x = a + h\n",
        "        for i in range(2, n, 2):\n",
        "            x += h\n",
        "            sum2 += f(x)\n",
        "        integral = h / 3 * (f(a) + f(b) + 4 * sum1 + 2 * sum2)\n",
        "        return integral\n",
        "\n",
        "def compute_volume_simpson(edges, n):\n",
        "    volume = 0\n",
        "\n",
        "    for i in range(len(edges) - 1):\n",
        "        x1, y1 = edges[i]\n",
        "        x2, y2 = edges[i + 1]\n",
        "        area = (y1 + y2) / 2 * (x2 - x1)\n",
        "        integral = simpson_integration(x1, x2, n)\n",
        "        volume += area * integral\n",
        "    return volume"
      ]
    },
    {
      "cell_type": "markdown",
      "metadata": {
        "id": "mWZFDqq3a1dO"
      },
      "source": [
        "## 4.2 Voxel Grid Method"
      ]
    },
    {
      "cell_type": "code",
      "execution_count": null,
      "metadata": {
        "id": "Cd5Xp1MuZrQT"
      },
      "outputs": [],
      "source": [
        "def compute_volume_voxelpt2(edges):\n",
        "    # Determine the minimum and maximum coordinates of the image\n",
        "    min_y = min(edges, key=lambda edge: edge[0])[0]\n",
        "    max_y = max(edges, key=lambda edge: edge[0])[0]\n",
        "    min_x = min(edges, key=lambda edge: edge[1])[1]\n",
        "    max_x = max(edges, key=lambda edge: edge[1])[1]\n",
        "\n",
        "    # Initialize the volume, voxel size, and tuning\n",
        "    tuning = 3750\n",
        "    volume = 0\n",
        "    voxel_size = 2  # Assume that each voxel represents a unit square\n",
        "\n",
        "    # Iterate over each voxel and check if it intersects with the image edges\n",
        "    for x in range(min_x, max_x + 1):\n",
        "        for y in range(min_y, max_y + 1):\n",
        "            # Check if the voxel intersects with any edge\n",
        "            intersect = False\n",
        "            for i in range(len(edges)):\n",
        "                j = (i + 1) % len(edges)\n",
        "                if (edges[i][1] > y) != (edges[j][1] > y) and x < (\n",
        "                        edges[j][0] - edges[i][0]) * (y - edges[i][1]) / (\n",
        "                        edges[j][1] - edges[i][1]) + edges[i][0]:\n",
        "                    intersect = not intersect\n",
        "\n",
        "            # If the voxel intersects with an odd number of edges, it is part of the image\n",
        "            if intersect:\n",
        "                volume += voxel_size * tuning\n",
        "\n",
        "    return volume"
      ]
    },
    {
      "cell_type": "markdown",
      "metadata": {
        "id": "PnDL10AVa6MU"
      },
      "source": [
        "# 5. Implementation"
      ]
    },
    {
      "cell_type": "code",
      "execution_count": null,
      "metadata": {
        "colab": {
          "base_uri": "https://localhost:8080/"
        },
        "id": "N6d3WN2YHVL9",
        "outputId": "df581839-0fef-44cd-9afb-1dcea8aa46fe"
      },
      "outputs": [
        {
          "name": "stdout",
          "output_type": "stream",
          "text": [
            "Raw Volume of an Object using Simpson Method: 343392417.0555565\n",
            "Volume of an Object after Scaling: 15077.014492209133\n",
            "Error: 191.34327521177067\n",
            "----------------------------------------------------------------\n",
            "Raw Volume of an Object using Voxel Grid: 127852500\n",
            "Volume of an Object after Scaling: 5613.501928475322\n",
            "Error: 8.473467216914427\n"
          ]
        }
      ],
      "source": [
        "image = Image.open('box.jpg')\n",
        "grey_img = rgbToGreyscale(image)\n",
        "fx, fy = firstDerivative(grey_img)\n",
        "combined_edges = combineEdges(fx, fy)\n",
        "array = grayscale_to_array(combined_edges)\n",
        "array = thresholding(array, 255)\n",
        "array = reduceNoise(array)\n",
        "points = getPoints(array)\n",
        "\n",
        "# Object Volume Detection with Simpson Method\n",
        "volume = compute_volume_simpson(points, 30)\n",
        "print(\"Raw Volume of an Object using Simpson Method:\", volume)\n",
        "volume_estimation = volume / (28.346 ** 3)\n",
        "print(\"Volume of an Object after Scaling:\", volume_estimation)\n",
        "error = (volume_estimation - 5175) / 5175\n",
        "print(\"Error:\", error * 100)\n",
        "\n",
        "print(\"----------------------------------------------------------------\")\n",
        "\n",
        "# Object Volume Detection with Voxel Grid Method\n",
        "volume3 = compute_volume_voxelpt2(points)\n",
        "print(\"Raw Volume of an Object using Voxel Grid:\", volume3)\n",
        "volume3_estimation = volume3 / (28.346 ** 3)\n",
        "print(\"Volume of an Object after Scaling:\", volume3_estimation)\n",
        "error = (volume3_estimation - 5175) / 5175\n",
        "print(\"Error:\", error * 100)"
      ]
    },
    {
      "cell_type": "code",
      "execution_count": null,
      "metadata": {
        "colab": {
          "base_uri": "https://localhost:8080/"
        },
        "id": "hTQnAeFb51c5",
        "outputId": "fc181140-6f9d-4f90-fe0a-6155120eedf9"
      },
      "outputs": [
        {
          "data": {
            "text/plain": [
              "1355"
            ]
          },
          "execution_count": 17,
          "metadata": {},
          "output_type": "execute_result"
        }
      ],
      "source": [
        "len(points)"
      ]
    },
    {
      "cell_type": "code",
      "execution_count": null,
      "metadata": {
        "id": "hni1lnCq3qAx"
      },
      "outputs": [],
      "source": [
        "im = plt.imshow(array, cmap='Greys')\n",
        "plt.show()"
      ]
    }
  ],
  "metadata": {
    "colab": {
      "provenance": []
    },
    "kernelspec": {
      "display_name": "Python 3 (ipykernel)",
      "language": "python",
      "name": "python3"
    },
    "language_info": {
      "codemirror_mode": {
        "name": "ipython",
        "version": 3
      },
      "file_extension": ".py",
      "mimetype": "text/x-python",
      "name": "python",
      "nbconvert_exporter": "python",
      "pygments_lexer": "ipython3",
      "version": "3.9.13"
    }
  },
  "nbformat": 4,
  "nbformat_minor": 0
}